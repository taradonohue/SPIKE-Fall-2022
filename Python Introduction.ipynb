{
 "cells": [
  {
   "cell_type": "markdown",
   "id": "65e19756",
   "metadata": {},
   "source": [
    "<h1><center> Introduction to Python </center></h1>"
   ]
  },
  {
   "cell_type": "markdown",
   "id": "6fbd5689",
   "metadata": {},
   "source": [
    "In this notebook, you'll learn the basics of Python and start writing your own code! To follow the notebook, run the cells, type in your own code when prompted, and use the buttons to answer the questions.\n",
    "<br> <br>\n",
    "This notebook is an interactive activity that is based on some of the concepts learned in a textbook called _Think Python._ It is available as a free pdf here: https://www.greenteapress.com/thinkpython/thinkpython.pdf\n",
    "\n",
    "If you have any further questions or want more practice, feel free to check out the textbook!"
   ]
  },
  {
   "cell_type": "markdown",
   "id": "88002504",
   "metadata": {},
   "source": [
    "<h2><center> Print Statements and Values </center></h2>"
   ]
  },
  {
   "cell_type": "markdown",
   "id": "23687e70",
   "metadata": {},
   "source": [
    "One of the first things you learn to do with a new programming language is print statements, which display something on the screen. Run the cell below to try out this print statement!"
   ]
  },
  {
   "cell_type": "code",
   "execution_count": 63,
   "id": "f2f526bd",
   "metadata": {},
   "outputs": [
    {
     "name": "stdout",
     "output_type": "stream",
     "text": [
      "Hello world!\n"
     ]
    }
   ],
   "source": [
    "print(\"Hello world!\")"
   ]
  },
  {
   "cell_type": "code",
   "execution_count": 64,
   "id": "ba1d318f",
   "metadata": {
    "tags": [
     "hide-input",
     "\"hide-input\""
    ]
   },
   "outputs": [
    {
     "name": "stdout",
     "output_type": "stream",
     "text": [
      "Are the statements below correct examples of print statements?\n",
      "\n",
      "print('Hello!')\n"
     ]
    },
    {
     "data": {
      "application/vnd.jupyter.widget-view+json": {
       "model_id": "ed79952c5022495792bf8ed7e800dcd1",
       "version_major": 2,
       "version_minor": 0
      },
      "text/plain": [
       "HBox(children=(Button(description='Yes', style=ButtonStyle()), Button(description='No', style=ButtonStyle())))"
      ]
     },
     "metadata": {},
     "output_type": "display_data"
    },
    {
     "name": "stdout",
     "output_type": "stream",
     "text": [
      "\n",
      "print(\"Hello!\")\n"
     ]
    },
    {
     "data": {
      "application/vnd.jupyter.widget-view+json": {
       "model_id": "a343c23cb0074c8dba19ffed71f52db3",
       "version_major": 2,
       "version_minor": 0
      },
      "text/plain": [
       "HBox(children=(Button(description='Yes', style=ButtonStyle()), Button(description='No', style=ButtonStyle())))"
      ]
     },
     "metadata": {},
     "output_type": "display_data"
    },
    {
     "name": "stdout",
     "output_type": "stream",
     "text": [
      "\n",
      "print(Hello!)\n"
     ]
    },
    {
     "data": {
      "application/vnd.jupyter.widget-view+json": {
       "model_id": "efca4971461745c894b62ba2d8ef9ad3",
       "version_major": 2,
       "version_minor": 0
      },
      "text/plain": [
       "HBox(children=(Button(description='Yes', style=ButtonStyle()), Button(description='No', style=ButtonStyle())))"
      ]
     },
     "metadata": {},
     "output_type": "display_data"
    },
    {
     "name": "stdout",
     "output_type": "stream",
     "text": [
      "\n"
     ]
    }
   ],
   "source": [
    "#Run this cell to answer a question!\n",
    "%run ./python_intro_questions.ipynb\n",
    "run_question_1()"
   ]
  },
  {
   "cell_type": "markdown",
   "id": "a7caa6a7",
   "metadata": {},
   "source": [
    "Now, write your own statement to print a message of your choice."
   ]
  },
  {
   "cell_type": "code",
   "execution_count": 65,
   "id": "d406612f",
   "metadata": {},
   "outputs": [],
   "source": [
    "#Write your code here!"
   ]
  },
  {
   "cell_type": "code",
   "execution_count": 66,
   "id": "f7a1b69c",
   "metadata": {},
   "outputs": [
    {
     "name": "stdout",
     "output_type": "stream",
     "text": [
      "print(\"Hi, how are you?\")\n"
     ]
    }
   ],
   "source": [
    "#Run to reveal the answer!\n",
    "%run ./python_intro_questions.ipynb\n",
    "reveal_answer1()"
   ]
  },
  {
   "cell_type": "markdown",
   "id": "4e368626",
   "metadata": {},
   "source": [
    "Another useful thing to know is how to write __comments,__ which allow us to write directly into the code without worrying about Python syntax. It is good practice to include comments that explain what your code does, so that other people (or your future self) will be able to understand what you did. Comments are also helpful for __debugging,__ so you can find out what's wrong with your code. If you want to disable a few lines of code so they don't run, but you don't want to delete them, you can \"comment them out.\" \n",
    "<br> <br>\n",
    "To make a comment, use a # symbol in front of whatever you write next.  "
   ]
  },
  {
   "cell_type": "code",
   "execution_count": 67,
   "id": "bcac1b82",
   "metadata": {},
   "outputs": [
    {
     "name": "stdout",
     "output_type": "stream",
     "text": [
      "Hello!\n"
     ]
    }
   ],
   "source": [
    "#This is a comment! Run the cell to see what happens. Then, comment out the print statement, and see what happens then!\n",
    "\n",
    "print(\"Hello!\")"
   ]
  },
  {
   "cell_type": "markdown",
   "id": "250f119d",
   "metadata": {},
   "source": [
    "Programming languages use __values__ as forms of information. There are a few different __types__ of values: integers, floating-point numbers,and strings.\n",
    "<br>\n",
    "<br>\n",
    "__Integers__ are whole numbers.\n",
    "<br>\n",
    "<br>\n",
    "__Floating-point numbers__ are numbers with a decimal symbol.\n",
    "<br>\n",
    "<br>\n",
    "__Strings__ are letters or words. Strings are always contained by quotation marks.\n",
    "<br>\n",
    "<br>\n",
    "Run the cells below to find out what type each of the following values are."
   ]
  },
  {
   "cell_type": "code",
   "execution_count": 68,
   "id": "4f2de5bd",
   "metadata": {},
   "outputs": [
    {
     "data": {
      "text/plain": [
       "int"
      ]
     },
     "execution_count": 68,
     "metadata": {},
     "output_type": "execute_result"
    }
   ],
   "source": [
    "type (1)"
   ]
  },
  {
   "cell_type": "code",
   "execution_count": 69,
   "id": "f349b69c",
   "metadata": {},
   "outputs": [
    {
     "data": {
      "text/plain": [
       "float"
      ]
     },
     "execution_count": 69,
     "metadata": {},
     "output_type": "execute_result"
    }
   ],
   "source": [
    "type (8.6)"
   ]
  },
  {
   "cell_type": "code",
   "execution_count": 70,
   "id": "f2fa165c",
   "metadata": {},
   "outputs": [
    {
     "data": {
      "text/plain": [
       "str"
      ]
     },
     "execution_count": 70,
     "metadata": {},
     "output_type": "execute_result"
    }
   ],
   "source": [
    "type(\"apple\")"
   ]
  },
  {
   "cell_type": "code",
   "execution_count": 71,
   "id": "e10cf56f",
   "metadata": {},
   "outputs": [
    {
     "name": "stdout",
     "output_type": "stream",
     "text": [
      "What type is the following value?\n",
      "\"2.0\"\n"
     ]
    },
    {
     "data": {
      "application/vnd.jupyter.widget-view+json": {
       "model_id": "225520624c844aa59d35a1ab311dbbd0",
       "version_major": 2,
       "version_minor": 0
      },
      "text/plain": [
       "HBox(children=(Button(description='Integer', style=ButtonStyle()), Button(description='Floating-point', style=…"
      ]
     },
     "metadata": {},
     "output_type": "display_data"
    }
   ],
   "source": [
    "#Run this cell to answer a question!\n",
    "%run ./python_intro_questions.ipynb\n",
    "run_question_2()"
   ]
  },
  {
   "cell_type": "markdown",
   "id": "c7e5c07a",
   "metadata": {},
   "source": [
    "<h2><center>Variables</center></h2>"
   ]
  },
  {
   "cell_type": "markdown",
   "id": "0cfac698",
   "metadata": {},
   "source": [
    "__Variables__ are names that refer to values. <br> <br>\n",
    "In order to create variables, we use __assignment statements.__ Here are a few examples of assignment statements. To assign a variable, you write the name of the variable, an equal sign, and then its value."
   ]
  },
  {
   "cell_type": "code",
   "execution_count": 72,
   "id": "bcda1730",
   "metadata": {},
   "outputs": [],
   "source": [
    "apples_cost = 3\n",
    "bread_cost = 2\n",
    "peanut_butter_cost = 7"
   ]
  },
  {
   "cell_type": "markdown",
   "id": "bab5dbd1",
   "metadata": {},
   "source": [
    "Let's practice the rules of variable names! In each of the pairs below, click the variable name that you think is __not__ allowed in Python."
   ]
  },
  {
   "cell_type": "code",
   "execution_count": 73,
   "id": "365b8753",
   "metadata": {},
   "outputs": [
    {
     "data": {
      "application/vnd.jupyter.widget-view+json": {
       "model_id": "78da2a96424b4aa98072d151f154a19a",
       "version_major": 2,
       "version_minor": 0
      },
      "text/plain": [
       "HBox(children=(Button(description='class_1', style=ButtonStyle()), Button(description='1st_class', style=Butto…"
      ]
     },
     "metadata": {},
     "output_type": "display_data"
    },
    {
     "name": "stdout",
     "output_type": "stream",
     "text": [
      "\n"
     ]
    },
    {
     "data": {
      "application/vnd.jupyter.widget-view+json": {
       "model_id": "318c68f495f84e4dbc6c86804c7307b5",
       "version_major": 2,
       "version_minor": 0
      },
      "text/plain": [
       "HBox(children=(Button(description='my school', style=ButtonStyle()), Button(description='my_school', style=But…"
      ]
     },
     "metadata": {},
     "output_type": "display_data"
    },
    {
     "name": "stdout",
     "output_type": "stream",
     "text": [
      "\n"
     ]
    },
    {
     "data": {
      "application/vnd.jupyter.widget-view+json": {
       "model_id": "3b749c55a6aa4498931b9f8fbd2072d7",
       "version_major": 2,
       "version_minor": 0
      },
      "text/plain": [
       "HBox(children=(Button(description='dining!table', style=ButtonStyle()), Button(description='DiningTable', styl…"
      ]
     },
     "metadata": {},
     "output_type": "display_data"
    },
    {
     "name": "stdout",
     "output_type": "stream",
     "text": [
      "\n"
     ]
    }
   ],
   "source": [
    "#Run this cell to answer a question!\n",
    "%run ./python_intro_questions.ipynb\n",
    "run_question_3()"
   ]
  },
  {
   "cell_type": "markdown",
   "id": "acca7305",
   "metadata": {},
   "source": [
    "When you store a value as a variable, you can refer to it later. For example, you can print by using the variable's name, or you can use operators on variables to get a new one. \n",
    "<br>\n",
    "<br>\n",
    "To add two variables, you can use:     __+__\n",
    "<br>\n",
    "<br>\n",
    "To subtract a variable, you can use:    __-__\n",
    "<br>\n",
    "<br>\n",
    "To multiply two variables, you can use:    __*__\n",
    "<br>\n",
    "<br>\n",
    "To divide two variables, you can use:    __/__\n",
    "\n",
    "\n",
    "Here are some examples of operations on variables. Run the cells below to see the operations!"
   ]
  },
  {
   "cell_type": "code",
   "execution_count": 15,
   "id": "7da94072",
   "metadata": {},
   "outputs": [
    {
     "name": "stdout",
     "output_type": "stream",
     "text": [
      "12\n"
     ]
    }
   ],
   "source": [
    "total_cost = (apples_cost + bread_cost + peanut_butter_cost)\n",
    "print(total_cost)"
   ]
  },
  {
   "cell_type": "code",
   "execution_count": 16,
   "id": "ac71dd8a",
   "metadata": {},
   "outputs": [
    {
     "name": "stdout",
     "output_type": "stream",
     "text": [
      "8\n"
     ]
    }
   ],
   "source": [
    "remaining_budget = (20 - total_cost)\n",
    "print(remaining_budget)"
   ]
  },
  {
   "cell_type": "markdown",
   "id": "57b6a5c9",
   "metadata": {},
   "source": [
    "Let's practice using variables and performing operations on them! <br><br> In the cell below, use variables to represent a box with a __length__ of __3 feet__, a __width__ of __4 feet__, and a __height__ of __2 feet.__ <br><br> Then, create a variable called __volume_calculated__ that represents the volume of the box based on calculations from the length, width, and height."
   ]
  },
  {
   "cell_type": "code",
   "execution_count": null,
   "id": "aae31365",
   "metadata": {},
   "outputs": [],
   "source": [
    "#Write your code here!"
   ]
  },
  {
   "cell_type": "markdown",
   "id": "9ef1e0cf",
   "metadata": {},
   "source": [
    "Now, we'll check to see if the volume_calculated variable you created matches the actual volume. Run the cell below to find out!"
   ]
  },
  {
   "cell_type": "code",
   "execution_count": 50,
   "id": "67443014",
   "metadata": {},
   "outputs": [],
   "source": [
    "#Run this cell to check your answer!\n",
    "%run ./python_intro_questions.ipynb\n",
    "check_volume()"
   ]
  },
  {
   "cell_type": "code",
   "execution_count": 21,
   "id": "6541dd5d",
   "metadata": {},
   "outputs": [
    {
     "name": "stdout",
     "output_type": "stream",
     "text": [
      "length = 3\n",
      "width = 4\n",
      "height = 2\n",
      "\n",
      "volume_calculated = length*width*height\n"
     ]
    }
   ],
   "source": [
    "#Double click to reveal the answer!\n",
    "%run ./python_intro_questions.ipynb\n",
    "reveal_answer2()"
   ]
  },
  {
   "cell_type": "markdown",
   "id": "40480f33",
   "metadata": {},
   "source": [
    "<h2><center> Functions </center></h2>"
   ]
  },
  {
   "cell_type": "markdown",
   "id": "db43f932",
   "metadata": {},
   "source": [
    "A __function__ is a group of code statements that performs a specific task when it is called. A simple example of a function that we've already seen before is print(), which we know displays the information inside the parentheses! <br> \n",
    "\n",
    "In Python, there are __modules__ we can import that contain many different functions and allow us to use them in our code. For example, the __math__ module allows us to use many common mathematical functions without having to write the code behind them ourselves!\n",
    "<br>\n",
    "\n",
    "This module has functions like factorial, sin, and square root, which perform those operations on any number you choose. To use functions from the module, you write the module's name, a period, and then the function.\n",
    "<br>\n",
    "\n",
    "To find more information about the functions available in a certain module, or to find more available modules, you can search the Internet!\n",
    "<br>\n",
    "\n",
    "Let's try importing and using the math module."
   ]
  },
  {
   "cell_type": "code",
   "execution_count": 22,
   "id": "d58d54c4",
   "metadata": {},
   "outputs": [],
   "source": [
    "import math\n",
    "\n",
    "x = 3"
   ]
  },
  {
   "cell_type": "code",
   "execution_count": 23,
   "id": "b1d37b68",
   "metadata": {},
   "outputs": [
    {
     "data": {
      "text/plain": [
       "6"
      ]
     },
     "execution_count": 23,
     "metadata": {},
     "output_type": "execute_result"
    }
   ],
   "source": [
    "math.factorial(x)"
   ]
  },
  {
   "cell_type": "code",
   "execution_count": 24,
   "id": "0e131039",
   "metadata": {},
   "outputs": [
    {
     "data": {
      "text/plain": [
       "0.1411200080598672"
      ]
     },
     "execution_count": 24,
     "metadata": {},
     "output_type": "execute_result"
    }
   ],
   "source": [
    "math.sin(x)"
   ]
  },
  {
   "cell_type": "code",
   "execution_count": 25,
   "id": "fa2a46a3",
   "metadata": {},
   "outputs": [
    {
     "data": {
      "text/plain": [
       "1.7320508075688772"
      ]
     },
     "execution_count": 25,
     "metadata": {},
     "output_type": "execute_result"
    }
   ],
   "source": [
    "math.sqrt(x)"
   ]
  },
  {
   "cell_type": "markdown",
   "id": "a791ffc5",
   "metadata": {},
   "source": [
    "We can also write our own functions. In order to do this, we must __define__ a function. A function definition has the function's name and the statements that happen when we call the function. Let's look at an example."
   ]
  },
  {
   "cell_type": "code",
   "execution_count": 16,
   "id": "12540926",
   "metadata": {},
   "outputs": [],
   "source": [
    "def print_song():\n",
    "    print(\"Twinkle, twinkle little star.\")\n",
    "    print(\"How I wonder what you are?\")"
   ]
  },
  {
   "cell_type": "markdown",
   "id": "bdef180c",
   "metadata": {},
   "source": [
    "To actually run the function after we define it, we use the function's name and parentheses (like we did with the print function already!) Let's run the function we just made."
   ]
  },
  {
   "cell_type": "code",
   "execution_count": 14,
   "id": "93558a72",
   "metadata": {},
   "outputs": [],
   "source": [
    "print_song()"
   ]
  },
  {
   "cell_type": "markdown",
   "id": "b6d37bce",
   "metadata": {},
   "source": [
    "Now, try writing a function that uses the print_song function to repeat those lyrics 2 times each!"
   ]
  },
  {
   "cell_type": "code",
   "execution_count": null,
   "id": "9e94f53c",
   "metadata": {},
   "outputs": [],
   "source": [
    "#Write your code here!"
   ]
  },
  {
   "cell_type": "code",
   "execution_count": 32,
   "id": "72174835",
   "metadata": {},
   "outputs": [
    {
     "name": "stdout",
     "output_type": "stream",
     "text": [
      "def repeat_song():\n",
      "     print_song()\n",
      "     print_song()\n",
      "repeat_song()\n"
     ]
    }
   ],
   "source": [
    "#Run to reveal the answer!\n",
    "%run ./python_intro_questions.ipynb\n",
    "reveal_answer3()"
   ]
  },
  {
   "cell_type": "code",
   "execution_count": 19,
   "id": "af23ec46",
   "metadata": {},
   "outputs": [],
   "source": [
    "#Parameters / arguments (local)\n",
    "\n",
    "#Returning or void functions (also in chap 6)"
   ]
  },
  {
   "cell_type": "markdown",
   "id": "99a429e2",
   "metadata": {},
   "source": [
    "Sometimes, functions require __arguments__ inside the parentheses to run. For example, when using math.sin(3), you are finding the sin of 3, so you are using 3 as the argument. \n",
    "\n",
    "In the functions, arguments are assigned to variables that are called parameters. Let's look at an example."
   ]
  },
  {
   "cell_type": "code",
   "execution_count": 42,
   "id": "f50cc621",
   "metadata": {},
   "outputs": [],
   "source": [
    "def find_area_square(length):\n",
    "    area = length*length\n",
    "    print(area)"
   ]
  },
  {
   "cell_type": "markdown",
   "id": "d0775307",
   "metadata": {},
   "source": [
    "The parameter (length) allows us to assign an argument with any value we want, so that this function can find the area of any size square."
   ]
  },
  {
   "cell_type": "code",
   "execution_count": 43,
   "id": "2d5ee0eb",
   "metadata": {},
   "outputs": [
    {
     "name": "stdout",
     "output_type": "stream",
     "text": [
      "9\n"
     ]
    }
   ],
   "source": [
    "find_area_square(3)"
   ]
  },
  {
   "cell_type": "code",
   "execution_count": 44,
   "id": "df1fa6e4",
   "metadata": {},
   "outputs": [
    {
     "name": "stdout",
     "output_type": "stream",
     "text": [
      "210681\n"
     ]
    }
   ],
   "source": [
    "find_area_square(459)"
   ]
  },
  {
   "cell_type": "markdown",
   "id": "21a7556f",
   "metadata": {},
   "source": [
    "One important note is that when we have variables inside of a function, like here, they are __local__ variables. This means they only exist inside the function, so their variables will not be saved outside of the function!"
   ]
  },
  {
   "cell_type": "markdown",
   "id": "c4918b10",
   "metadata": {},
   "source": [
    "<h2><center> Conditionals and Recursion </center></h2>"
   ]
  },
  {
   "cell_type": "markdown",
   "id": "e08caa63",
   "metadata": {},
   "source": [
    "__Boolean expressions__ have values of either true or false. You can use the == operator to compare two things and return the value __True__ if they are equal, or __False__ if they are not. Let's see how it works."
   ]
  },
  {
   "cell_type": "code",
   "execution_count": 15,
   "id": "28b0753c",
   "metadata": {},
   "outputs": [],
   "source": [
    "3==3"
   ]
  },
  {
   "cell_type": "code",
   "execution_count": null,
   "id": "28ee6b84",
   "metadata": {},
   "outputs": [],
   "source": [
    "3==4"
   ]
  },
  {
   "cell_type": "markdown",
   "id": "3016a0db",
   "metadata": {},
   "source": [
    "__Conditional statements__ help us check a condition and change how the program behaves based on the result. A simple kind of conditional statement is an __if statement.__ Here's an example below."
   ]
  },
  {
   "cell_type": "code",
   "execution_count": 23,
   "id": "50128d4c",
   "metadata": {},
   "outputs": [
    {
     "name": "stdout",
     "output_type": "stream",
     "text": [
      "Team 1 is winning!\n"
     ]
    }
   ],
   "source": [
    "team_1 = 5\n",
    "team_2 = 3\n",
    "if team_1 > team_2:\n",
    "    print(\"Team 1 is winning!\")"
   ]
  },
  {
   "cell_type": "markdown",
   "id": "237a9bdf",
   "metadata": {},
   "source": [
    "As we can see, since Team 1's score is greater than Team 2's score, it prints the statement. What happens if Team 2 is winning, though?"
   ]
  },
  {
   "cell_type": "code",
   "execution_count": 24,
   "id": "01dc13d6",
   "metadata": {},
   "outputs": [],
   "source": [
    "team_1 = 3\n",
    "team_2 = 5\n",
    "if team_1 > team_2:\n",
    "    print(\"Team 1 is winning!\")"
   ]
  },
  {
   "cell_type": "markdown",
   "id": "9fe40662",
   "metadata": {},
   "source": [
    "At this point, nothing happens if the condition is false (when team 2 is winning). So, let's add another part to our conditional."
   ]
  },
  {
   "cell_type": "code",
   "execution_count": 25,
   "id": "d0ea8d84",
   "metadata": {},
   "outputs": [
    {
     "name": "stdout",
     "output_type": "stream",
     "text": [
      "Team 2 is winning!\n"
     ]
    }
   ],
   "source": [
    "team_1 = 3\n",
    "team_2 = 5\n",
    "if team_1 > team_2:\n",
    "    print(\"Team 1 is winning!\")\n",
    "else:\n",
    "    print(\"Team 2 is winning!\")"
   ]
  },
  {
   "cell_type": "markdown",
   "id": "4df9252a",
   "metadata": {},
   "source": [
    "By using __else,__ we can add another possibility to our conditional statement. But, what if we have more than 2 possibilities?"
   ]
  },
  {
   "cell_type": "code",
   "execution_count": 26,
   "id": "46b32efe",
   "metadata": {},
   "outputs": [
    {
     "name": "stdout",
     "output_type": "stream",
     "text": [
      "It's a tie!\n"
     ]
    }
   ],
   "source": [
    "team_1 = 4\n",
    "team_2 = 4\n",
    "if team_1 > team_2:\n",
    "    print(\"Team 1 is winning!\")\n",
    "elif team_1 < team_2:\n",
    "    print(\"Team 2 is winning!\")\n",
    "elif team_1 == team_2:\n",
    "    print(\"It's a tie!\")"
   ]
  },
  {
   "cell_type": "markdown",
   "id": "0a38b473",
   "metadata": {},
   "source": [
    "We can use __elif__ (which stands for \"else if\") to represent other cases, so that we can check for any number of conditions. "
   ]
  },
  {
   "cell_type": "markdown",
   "id": "b18c6f4b",
   "metadata": {},
   "source": [
    "Now, let's write our own conditional statements. In the cell below, write code that takes in two variables: __outside temperature__ and __likelihood of precipitation.__ Then, print a suggestion for how someone should dress to prepare for the weather! Be sure to account for all of the different possible combinations of conditions."
   ]
  },
  {
   "cell_type": "code",
   "execution_count": 38,
   "id": "2704ceb7",
   "metadata": {},
   "outputs": [],
   "source": [
    "#Write your code here!"
   ]
  },
  {
   "cell_type": "code",
   "execution_count": null,
   "id": "3ebacfef",
   "metadata": {},
   "outputs": [],
   "source": [
    "#Run to reveal the answer!\n",
    "%run ./python_intro_questions.ipynb\n",
    "reveal_answer4()"
   ]
  },
  {
   "cell_type": "markdown",
   "id": "30bb1ad5",
   "metadata": {},
   "source": [
    "When you define a function, you can call another function within it. However, you can also call a function within itself. This is called __recursion.__ Let's look at an example."
   ]
  },
  {
   "cell_type": "code",
   "execution_count": 53,
   "id": "a619f049",
   "metadata": {},
   "outputs": [],
   "source": [
    "def timer(x):\n",
    "    if x==0:\n",
    "        print(\"The timer is done!\")\n",
    "    else: \n",
    "        print (x)\n",
    "        timer(x-1)"
   ]
  },
  {
   "cell_type": "markdown",
   "id": "2e2a0eef",
   "metadata": {},
   "source": [
    "As long as the value of x is greater than 0, the function will continue to call itself, and reduce the amount of time left until it reaches 0. \n",
    "Then, it will print a message saying the timer is done!"
   ]
  },
  {
   "cell_type": "code",
   "execution_count": 54,
   "id": "cd04db95",
   "metadata": {},
   "outputs": [
    {
     "name": "stdout",
     "output_type": "stream",
     "text": [
      "10\n",
      "9\n",
      "8\n",
      "7\n",
      "6\n",
      "5\n",
      "4\n",
      "3\n",
      "2\n",
      "1\n",
      "The timer is done!\n"
     ]
    }
   ],
   "source": [
    "timer(10)"
   ]
  },
  {
   "cell_type": "markdown",
   "id": "d02af250",
   "metadata": {},
   "source": [
    "<h2><center>Iteration</center></h2>"
   ]
  },
  {
   "cell_type": "code",
   "execution_count": 29,
   "id": "a055227d",
   "metadata": {},
   "outputs": [],
   "source": [
    "#Reassignment of variables, updating, while statement"
   ]
  },
  {
   "cell_type": "markdown",
   "id": "64808046",
   "metadata": {},
   "source": [
    "It is possible to assign multiple values to the same variable. In this case, the variable will assume whatever value it is assigned most recently."
   ]
  },
  {
   "cell_type": "code",
   "execution_count": 45,
   "id": "4ae13aee",
   "metadata": {},
   "outputs": [
    {
     "name": "stdout",
     "output_type": "stream",
     "text": [
      "50\n",
      "70\n"
     ]
    }
   ],
   "source": [
    "temperature = 50\n",
    "print(temperature)\n",
    "temperature = 70\n",
    "print(temperature)"
   ]
  },
  {
   "cell_type": "markdown",
   "id": "37d9435c",
   "metadata": {},
   "source": [
    "Before running the cell below, try to guess what the final values of 'a' and 'b' will be equal to."
   ]
  },
  {
   "cell_type": "code",
   "execution_count": 50,
   "id": "6ca39a42",
   "metadata": {},
   "outputs": [
    {
     "name": "stdout",
     "output_type": "stream",
     "text": [
      "4\n",
      "2\n"
     ]
    }
   ],
   "source": [
    "a = 2\n",
    "b = a\n",
    "a = 4\n",
    "print(a)\n",
    "print(b)"
   ]
  },
  {
   "cell_type": "markdown",
   "id": "e060fb00",
   "metadata": {},
   "source": [
    "__Iteration__ involves repeating tasks, like what we saw with recursion. Another way to do this is through __while loops.__\n",
    "\n",
    "Let's see how they are used. Here's the original timer example:"
   ]
  },
  {
   "cell_type": "code",
   "execution_count": 55,
   "id": "291fa89a",
   "metadata": {},
   "outputs": [],
   "source": [
    "def timer_old(x):\n",
    "    if x==0:\n",
    "        print(\"The timer is done!\")\n",
    "    else: \n",
    "        print (x)\n",
    "        timer(x-1)"
   ]
  },
  {
   "cell_type": "code",
   "execution_count": 56,
   "id": "b9646a99",
   "metadata": {},
   "outputs": [
    {
     "name": "stdout",
     "output_type": "stream",
     "text": [
      "5\n",
      "4\n",
      "3\n",
      "2\n",
      "1\n",
      "The timer is done!\n"
     ]
    }
   ],
   "source": [
    "timer_old(5)"
   ]
  },
  {
   "cell_type": "markdown",
   "id": "7f8f489d",
   "metadata": {},
   "source": [
    "It can also be written using a while loop to do the same thing!"
   ]
  },
  {
   "cell_type": "code",
   "execution_count": 60,
   "id": "d0eca17c",
   "metadata": {},
   "outputs": [],
   "source": [
    "def timer_new(x):\n",
    "    while x>0:\n",
    "        print (x)\n",
    "        x = x - 1\n",
    "    print(\"The timer is done!\")    "
   ]
  },
  {
   "cell_type": "code",
   "execution_count": 61,
   "id": "79a631c9",
   "metadata": {},
   "outputs": [
    {
     "name": "stdout",
     "output_type": "stream",
     "text": [
      "6\n",
      "5\n",
      "4\n",
      "3\n",
      "2\n",
      "1\n",
      "The timer is done!\n"
     ]
    }
   ],
   "source": [
    "timer_new(6)"
   ]
  },
  {
   "cell_type": "markdown",
   "id": "6ffb8ed5",
   "metadata": {},
   "source": [
    "<h2><center> Writing Your Own Program </center></h2>"
   ]
  },
  {
   "cell_type": "markdown",
   "id": "7dfde8e2",
   "metadata": {},
   "source": [
    "Now, you're going to use what you've learned so far to write your own program. You are going to make a game of Rock, Paper, Scissors where a user can play against a computer! The program should:\n",
    "<br>\n",
    "\n",
    "- Take in a user input so the player can choose their move.\n",
    "- Include a countdown that displays the words \"Rock, paper, scissors, shoot!\" before showing the computer's move.\n",
    "- Generate a random choice from the computer.\n",
    "- Compare the user's choice and the computer's choice to display who wins! "
   ]
  },
  {
   "cell_type": "markdown",
   "id": "a114f391",
   "metadata": {},
   "source": [
    "To get you started, here are two modules that can be helpful in your program! \n",
    "<br>\n",
    "<br>\n",
    "The __random__ module can generate a random choice out of a given set of options. \n",
    "<br>\n",
    "<br>\n",
    "The __time__ module can keep track of how much time passes and make your program pause for a given amount of time.\n",
    "<br>\n",
    "<br>\n",
    "Here are some examples of how that code works. Think about how these modules can be used in your game!"
   ]
  },
  {
   "cell_type": "code",
   "execution_count": 16,
   "id": "aa9e0680",
   "metadata": {},
   "outputs": [],
   "source": [
    "import random\n",
    "book_genres = [\"fiction\", \"mystery\",\"biography\"]\n",
    "book_choice = random.choice(book_genres)\n",
    "print(book_choice)"
   ]
  },
  {
   "cell_type": "code",
   "execution_count": 17,
   "id": "9ecf28fe",
   "metadata": {},
   "outputs": [],
   "source": [
    "import time\n",
    "print(1)\n",
    "time.sleep(1)\n",
    "print(2)\n",
    "time.sleep(1)\n",
    "print(3)\n",
    "time.sleep(1)"
   ]
  },
  {
   "cell_type": "markdown",
   "id": "7580061b",
   "metadata": {},
   "source": [
    "We can also provide a prompt for users to type in by using __input.__ This can help you allow your user to choose between rock, paper, or scissors!"
   ]
  },
  {
   "cell_type": "code",
   "execution_count": 62,
   "id": "85ad9dc2",
   "metadata": {},
   "outputs": [
    {
     "name": "stdout",
     "output_type": "stream",
     "text": [
      "Username:hello\n"
     ]
    }
   ],
   "source": [
    "username = input(\"Username:\")"
   ]
  },
  {
   "cell_type": "markdown",
   "id": "19901973",
   "metadata": {},
   "source": [
    "One other thing to consider when creating your program is whether you are writing it in a way that is easy for other people to read and understand. <br><br> In general, good coding practice includes importing any necessary modules at the beginning, defining any functions you will use, and then running those functions. <br><br> You also want to write good variable names that clarify what they are referring to, and use a lot of comments in your code to explain what you are doing. Good luck!"
   ]
  },
  {
   "cell_type": "code",
   "execution_count": 12,
   "id": "f6b53363",
   "metadata": {},
   "outputs": [],
   "source": [
    "#Write your code here!"
   ]
  },
  {
   "cell_type": "code",
   "execution_count": null,
   "id": "f24bc509",
   "metadata": {},
   "outputs": [],
   "source": [
    "#Scroll down to reveal the answer!\n",
    "#\n",
    "#\n",
    "#\n",
    "#\n",
    "#\n",
    "#\n",
    "#\n",
    "#\n",
    "#\n",
    "#\n",
    "#\n",
    "#\n",
    "#\n",
    "#\n",
    "#\n",
    "#\n",
    "#\n",
    "#\n",
    "#\n",
    "#\n",
    "#\n",
    "#\n",
    "#\n",
    "#\n",
    "#\n",
    "#\n",
    "#\n",
    "#\n",
    "#\n",
    "#\n",
    "import random\n",
    "import time\n",
    "\n",
    "#This timer slows down the program so that it takes a few seconds before revealing the winner.\n",
    "def countdown_timer():\n",
    "    print(\"Rock,\")\n",
    "    time.sleep(1)\n",
    "    print(\"Paper,\")\n",
    "    time.sleep(1)\n",
    "    print(\"Scissors,\")\n",
    "    time.sleep(1)\n",
    "    print(\"Shoot!\")\n",
    "    print(\"\")\n",
    "\n",
    "#This code takes in a user input and shows what the user chooses. Then, it uses the runs the countdown.\n",
    "user_choice = input(\"Enter your choice(rock, paper, or scissors): \")\n",
    "print(\"\")\n",
    "print(\"You chose \" + user_choice + \"!\")\n",
    "print(\"\")\n",
    "countdown_timer()\n",
    "\n",
    "#This sets the list of options that the computer can choose from, and generates a random choice for the computer.\n",
    "options = [\"rock\", \"paper\", \"scissors\"]\n",
    "computer_choice = random.choice(options)\n",
    "print(\"The computer chose \" + computer_choice + \"!\")\n",
    "print(\"\")\n",
    "\n",
    "#These if statements check the user choice and computer choice and compare them to see who wins.\n",
    "if user_choice == computer_choice:\n",
    "    print(\"It's a tie!\")\n",
    "if user_choice == 'rock' and computer_choice == 'scissors':\n",
    "    print(\"You win! Rock beats scissors!\")\n",
    "if user_choice == 'rock' and computer_choice == 'paper':\n",
    "    print(\"You lose! Paper beats rock!\")\n",
    "if user_choice == 'paper' and computer_choice == 'rock':\n",
    "    print(\"You win! Paper beats rock!\")\n",
    "if user_choice == 'paper' and computer_choice == 'scissors':\n",
    "    print(\"You lose! Scissors beats paper!\")"
   ]
  },
  {
   "cell_type": "markdown",
   "id": "4726a345",
   "metadata": {},
   "source": [
    "Now, try to add on to the program you've made and improve it. Here are some suggestions of what you can do, or come up with your own ideas!\n",
    "<br>\n",
    "1. Add a way to keep score between the user and the computer, and end the game when one player reaches a certain score.\n",
    "2. Right now, the game only works if the user inputs their choice in one way (all lowercase). Adjust the game so that it can account for different ways the user might input their choice, and display an error message if the user chooses an unrecognizable input.\n",
    "3. Rig the game so that no matter what the user chooses, the computer will always choose the move that beats them."
   ]
  },
  {
   "cell_type": "code",
   "execution_count": null,
   "id": "4b96a911",
   "metadata": {},
   "outputs": [],
   "source": [
    "#Write your improved code here!"
   ]
  },
  {
   "cell_type": "markdown",
   "id": "547d6143",
   "metadata": {},
   "source": [
    "<h2><center> End of Module </center></h2>"
   ]
  },
  {
   "cell_type": "markdown",
   "id": "d0ce4952",
   "metadata": {},
   "source": [
    "Congratulations, you've completed the introductory Python module! Now that you know the basics, you can write your own programs. Remember, you can check out the textbook or online Python documentation to learn more!"
   ]
  }
 ],
 "metadata": {
  "kernelspec": {
   "display_name": "Python 3 (ipykernel)",
   "language": "python",
   "name": "python3"
  },
  "language_info": {
   "codemirror_mode": {
    "name": "ipython",
    "version": 3
   },
   "file_extension": ".py",
   "mimetype": "text/x-python",
   "name": "python",
   "nbconvert_exporter": "python",
   "pygments_lexer": "ipython3",
   "version": "3.9.12"
  }
 },
 "nbformat": 4,
 "nbformat_minor": 5
}
