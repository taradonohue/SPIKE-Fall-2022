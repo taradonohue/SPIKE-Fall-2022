{
 "cells": [
  {
   "cell_type": "markdown",
   "id": "65e19756",
   "metadata": {},
   "source": [
    "<h1><center> Introduction to Python </center></h1>"
   ]
  },
  {
   "cell_type": "markdown",
   "id": "6fbd5689",
   "metadata": {},
   "source": [
    "In this notebook, you'll learn the basics of Python and start writing your own code! To follow the notebook, run the cells, type in your own code when prompted, and use the buttons to answer the questions.\n",
    "<br> <br>\n",
    "This notebook is an interactive activity that is based on some of the concepts learned in a textbook called _Think Python._ It is available as a free pdf here: https://www.greenteapress.com/thinkpython/thinkpython.pdf\n",
    "\n",
    "If you have any further questions or want more practice, feel free to check out the textbook!"
   ]
  },
  {
   "cell_type": "markdown",
   "id": "88002504",
   "metadata": {},
   "source": [
    "<h2><center> Print Statements and Values </center></h2>"
   ]
  },
  {
   "cell_type": "markdown",
   "id": "23687e70",
   "metadata": {},
   "source": [
    "One of the first things you learn to do with a new programming language is print statements, which display something on the screen. Run the cell below to try out this print statement!"
   ]
  },
  {
   "cell_type": "code",
   "execution_count": 80,
   "id": "f2f526bd",
   "metadata": {},
   "outputs": [
    {
     "name": "stdout",
     "output_type": "stream",
     "text": [
      "Hello world!\n"
     ]
    }
   ],
   "source": [
    "print(\"Hello world!\")"
   ]
  },
  {
   "cell_type": "code",
   "execution_count": 146,
   "id": "ba1d318f",
   "metadata": {
    "tags": [
     "hide-input",
     "\"hide-input\""
    ]
   },
   "outputs": [
    {
     "name": "stdout",
     "output_type": "stream",
     "text": [
      "Are the statements below correct examples of print statements?\n",
      "\n",
      "1. print('Hello!')\n"
     ]
    },
    {
     "data": {
      "application/vnd.jupyter.widget-view+json": {
       "model_id": "7490b3a84c91492dba3ea36214711134",
       "version_major": 2,
       "version_minor": 0
      },
      "text/plain": [
       "Dropdown(description='1.', index=2, options=('Yes', 'No', 'Choose your answer'), value='Choose your answer')"
      ]
     },
     "metadata": {},
     "output_type": "display_data"
    },
    {
     "name": "stdout",
     "output_type": "stream",
     "text": [
      "\n",
      "2. print(\"Hello!\")\n"
     ]
    },
    {
     "data": {
      "application/vnd.jupyter.widget-view+json": {
       "model_id": "5089b40a29e44472a73d1c4fa1f0299f",
       "version_major": 2,
       "version_minor": 0
      },
      "text/plain": [
       "Dropdown(description='2.', index=2, options=('Yes', 'No', 'Choose your answer'), value='Choose your answer')"
      ]
     },
     "metadata": {},
     "output_type": "display_data"
    },
    {
     "name": "stdout",
     "output_type": "stream",
     "text": [
      "\n",
      "3. print(Hello!)\n"
     ]
    },
    {
     "data": {
      "application/vnd.jupyter.widget-view+json": {
       "model_id": "040be76c544e43ec8a9b1a4417bc016e",
       "version_major": 2,
       "version_minor": 0
      },
      "text/plain": [
       "Dropdown(description='3.', index=2, options=('Yes', 'No', 'Choose your answer'), value='Choose your answer')"
      ]
     },
     "metadata": {},
     "output_type": "display_data"
    }
   ],
   "source": [
    "#HIDE THIS CODE\n",
    "from ipywidgets import HBox, Label, Layout\n",
    "\n",
    "question_1 = widgets.Dropdown(\n",
    "    options=['Yes', 'No','Choose your answer',],\n",
    "    value='Choose your answer',\n",
    "    description='1.',\n",
    ")\n",
    "\n",
    "def answer_1(change):\n",
    "    if change['new'] == 'Yes':\n",
    "        print(\"Correct! You can use single or double quotations in print statements.\")\n",
    "          \n",
    "    elif change['new'] == 'No':\n",
    "        print(\"Try again!\")\n",
    "      \n",
    "question_1.observe(answer_1)\n",
    "\n",
    "print(\"Are the statements below correct examples of print statements?\")\n",
    "print()\n",
    "print(\"1. print('Hello!')\")\n",
    "display(question_1)\n",
    "\n",
    "question_2 = widgets.Dropdown(\n",
    "    options=['Yes', 'No','Choose your answer',],\n",
    "    value='Choose your answer',\n",
    "    description='2.',\n",
    ")\n",
    "\n",
    "def answer_2(change):\n",
    "    if change['new'] == 'Yes':\n",
    "        print(\"Correct! You can use single or double quotations in print statements.\")\n",
    "          \n",
    "    elif change['new'] == 'No':\n",
    "        print(\"Try again!\")\n",
    "      \n",
    "question_2.observe(answer_2)\n",
    "\n",
    "print()\n",
    "print('2. print(\"Hello!\")')\n",
    "display(question_2)\n",
    "\n",
    "question_3 = widgets.Dropdown(\n",
    "    options=['Yes', 'No','Choose your answer',],\n",
    "    value='Choose your answer',\n",
    "    description='3.',\n",
    ")\n",
    "\n",
    "def answer_3(change):\n",
    "    if change['new'] == 'Yes':\n",
    "        print(\"Try again!\")\n",
    "          \n",
    "    elif change['new'] == 'No':\n",
    "        print(\"Correct! You have to use quotations in print statements!\")\n",
    "      \n",
    "question_3.observe(answer_3)\n",
    "\n",
    "print()\n",
    "print('3. print(Hello!)')\n",
    "display(question_3)"
   ]
  },
  {
   "cell_type": "markdown",
   "id": "a7caa6a7",
   "metadata": {},
   "source": [
    "Now, write your own statement to print a message of your choice."
   ]
  },
  {
   "cell_type": "code",
   "execution_count": 147,
   "id": "f7a1b69c",
   "metadata": {},
   "outputs": [
    {
     "name": "stdout",
     "output_type": "stream",
     "text": [
      "Hi, my name is Tara.\n"
     ]
    }
   ],
   "source": [
    "#This cell would be empty\n",
    "print(\"Hi, my name is Tara.\")"
   ]
  },
  {
   "cell_type": "markdown",
   "id": "4e368626",
   "metadata": {},
   "source": [
    "Another useful thing to know is how to write __comments,__ which allow us to write directly into the code without worrying about Python syntax. It is good practice to include comments that explain what your code does, so that other people (or your future self) will be able to understand what you did. Comments are also helpful for __debugging,__ so you can find out what's wrong with your code. If you want to disable a few lines of code so they don't run, but you don't want to delete them, you can \"comment them out.\" \n",
    "<br> <br>\n",
    "To make a comment, use a # symbol in front of whatever you write next.  "
   ]
  },
  {
   "cell_type": "code",
   "execution_count": 148,
   "id": "bcac1b82",
   "metadata": {},
   "outputs": [
    {
     "name": "stdout",
     "output_type": "stream",
     "text": [
      "Hello!\n"
     ]
    }
   ],
   "source": [
    "#This is a comment! The code below has two different print statements.\n",
    "#One is commented out. Run the cell to see what happens, and try\n",
    "#switching the comments around.\n",
    "\n",
    "print(\"Hello!\")\n",
    "\n",
    "#print(\"Goodbye!\")"
   ]
  },
  {
   "cell_type": "markdown",
   "id": "250f119d",
   "metadata": {},
   "source": [
    "Programming languages use __values__ as forms of information. There are a few different __types__ of values: __integers, floating-point numbers, and strings.__ Run the cells below to find out what type each of the following values are."
   ]
  },
  {
   "cell_type": "code",
   "execution_count": 104,
   "id": "4f2de5bd",
   "metadata": {},
   "outputs": [
    {
     "data": {
      "text/plain": [
       "int"
      ]
     },
     "execution_count": 104,
     "metadata": {},
     "output_type": "execute_result"
    }
   ],
   "source": [
    "type (1)"
   ]
  },
  {
   "cell_type": "code",
   "execution_count": 105,
   "id": "f349b69c",
   "metadata": {},
   "outputs": [
    {
     "data": {
      "text/plain": [
       "float"
      ]
     },
     "execution_count": 105,
     "metadata": {},
     "output_type": "execute_result"
    }
   ],
   "source": [
    "type (8.6)"
   ]
  },
  {
   "cell_type": "code",
   "execution_count": 106,
   "id": "f2fa165c",
   "metadata": {},
   "outputs": [
    {
     "data": {
      "text/plain": [
       "str"
      ]
     },
     "execution_count": 106,
     "metadata": {},
     "output_type": "execute_result"
    }
   ],
   "source": [
    "type(\"apple\")"
   ]
  },
  {
   "cell_type": "code",
   "execution_count": 161,
   "id": "e10cf56f",
   "metadata": {},
   "outputs": [
    {
     "name": "stdout",
     "output_type": "stream",
     "text": [
      "What type is the following value?\n",
      "\"2.0\"\n"
     ]
    },
    {
     "data": {
      "application/vnd.jupyter.widget-view+json": {
       "model_id": "4b5f5fa9f67a4f3fb22110641b598684",
       "version_major": 2,
       "version_minor": 0
      },
      "text/plain": [
       "Dropdown(index=3, options=('Integer', 'Floating-point number', 'String', 'Choose your answer'), value='Choose …"
      ]
     },
     "metadata": {},
     "output_type": "display_data"
    }
   ],
   "source": [
    "#HIDE THIS CODE\n",
    "from ipywidgets import HBox, Label, Layout\n",
    "\n",
    "question_1 = widgets.Dropdown(\n",
    "    options=['Integer', 'Floating-point number','String','Choose your answer',],\n",
    "    value='Choose your answer',\n",
    ")\n",
    "\n",
    "def answer_1(change):\n",
    "    if change['new'] == 'Integer':\n",
    "        print(\"Try again!\")\n",
    "          \n",
    "    elif change['new'] == 'Floating-point number':\n",
    "        print(\"Try again!\")\n",
    "        \n",
    "    elif change['new'] == 'String':\n",
    "        print(\"Correct! Putting quotes around the number makes it a string.\")\n",
    "      \n",
    "question_1.observe(answer_1)\n",
    "\n",
    "print(\"What type is the following value?\")\n",
    "print('\"2.0\"')\n",
    "\n",
    "display(question_1)\n"
   ]
  },
  {
   "cell_type": "markdown",
   "id": "c7e5c07a",
   "metadata": {},
   "source": [
    "<h2><center>Variables</center></h2>"
   ]
  },
  {
   "cell_type": "markdown",
   "id": "0cfac698",
   "metadata": {},
   "source": [
    "__Variables__ are names that refer to values. <br> <br>\n",
    "In order to create variables, we use __assignment statements.__ Here are a few examples of assignment statements. "
   ]
  },
  {
   "cell_type": "code",
   "execution_count": 86,
   "id": "bcda1730",
   "metadata": {},
   "outputs": [],
   "source": [
    "apples = 3\n",
    "bread = 2\n",
    "peanut_butter = 7"
   ]
  },
  {
   "cell_type": "markdown",
   "id": "bab5dbd1",
   "metadata": {},
   "source": [
    "Let's practice the rules of variable names! In each of the pairs below, click the variable name that you think __is not__ allowed in Python."
   ]
  },
  {
   "cell_type": "markdown",
   "id": "acca7305",
   "metadata": {},
   "source": [
    "When you store a value as a variable, you can refer to it later. For example, you can print by using the variable's name, or you can use operators on variables to get a new one. Here are some ways you can operate on variables."
   ]
  },
  {
   "cell_type": "code",
   "execution_count": 155,
   "id": "7da94072",
   "metadata": {},
   "outputs": [
    {
     "name": "stdout",
     "output_type": "stream",
     "text": [
      "The total cost is $12\n",
      "The remaining budget is $8\n"
     ]
    }
   ],
   "source": [
    "total_cost = (apples + bread + peanut_butter)\n",
    "print(\"The total cost is $\" + str(total_cost))\n",
    "remaining_budget = (20 - total_cost)\n",
    "print(\"The remaining budget is $\" + str(remaining_budget))"
   ]
  },
  {
   "cell_type": "markdown",
   "id": "57b6a5c9",
   "metadata": {},
   "source": [
    "Let's practice using variables and performing operations on them! <br><br> In the cell below, use variables to represent a box with a __length__ of __3 feet__, a __width__ of __4 feet__, and a __height__ of __2 feet.__ <br><br> Then, create a variable called __volume_calculated__ that represents the volume of the box based on calculations from the length, width, and height."
   ]
  },
  {
   "cell_type": "code",
   "execution_count": 88,
   "id": "6541dd5d",
   "metadata": {},
   "outputs": [],
   "source": [
    "#This cell would be empty\n",
    "length = 3\n",
    "width = 4\n",
    "height = 2\n",
    "\n",
    "volume_calculated = length*width*height"
   ]
  },
  {
   "cell_type": "markdown",
   "id": "9ef1e0cf",
   "metadata": {},
   "source": [
    "Now, we'll check to see if the volume_calculated variable you created matches the actual volume. Run the cell below to find out!"
   ]
  },
  {
   "cell_type": "code",
   "execution_count": 89,
   "id": "67443014",
   "metadata": {},
   "outputs": [
    {
     "name": "stdout",
     "output_type": "stream",
     "text": [
      "Great job! The volume is correct.\n"
     ]
    }
   ],
   "source": [
    "volume_actual = 24\n",
    "\n",
    "if volume_calculated == volume_actual:\n",
    "    print(\"Great job! The volume is correct.\")\n",
    "else:\n",
    "    print(\"Try again! The volumes don't match. Check to see if you set your variables correctly!\")"
   ]
  },
  {
   "cell_type": "markdown",
   "id": "40480f33",
   "metadata": {},
   "source": [
    "<h2><center> Functions </center></h2>"
   ]
  },
  {
   "cell_type": "markdown",
   "id": "db43f932",
   "metadata": {},
   "source": [
    "A __function__ is a group of code statements that performs a specific task when it is called. A simple example of a function that we've already seen before is print(), which we know displays the information inside the parentheses! <br> <br>\n",
    "\n",
    "In Python, there are __modules__ we can import that contain many different functions and allow us to use them in our code. For example, the __math__ module allows us to use many common mathematical functions without having to write the code behind them ourselves!\n",
    "<br><br>\n",
    "\n",
    "Let's try importing and using the math module."
   ]
  },
  {
   "cell_type": "code",
   "execution_count": 66,
   "id": "d58d54c4",
   "metadata": {},
   "outputs": [
    {
     "name": "stdout",
     "output_type": "stream",
     "text": [
      "6\n",
      "0.1411200080598672\n",
      "1.7320508075688772\n"
     ]
    }
   ],
   "source": [
    "import math\n",
    "\n",
    "x = 3\n",
    "\n",
    "print(math.factorial(x))\n",
    "print(math.sin(x))\n",
    "print(math.sqrt(x))"
   ]
  },
  {
   "cell_type": "markdown",
   "id": "a791ffc5",
   "metadata": {},
   "source": [
    "We can also write our own functions. In order to do this, we must __define__ a function. A function definition has the function's name and the statements that happen when we call the function. Let's look at an example."
   ]
  },
  {
   "cell_type": "code",
   "execution_count": 75,
   "id": "12540926",
   "metadata": {},
   "outputs": [],
   "source": [
    "def print_song():\n",
    "    print(\"Twinkle, twinkle little star.\")\n",
    "    print(\"How I wonder what you are?\")"
   ]
  },
  {
   "cell_type": "markdown",
   "id": "bdef180c",
   "metadata": {},
   "source": [
    "To actually run the function after we define it, we use the function's name and parentheses (like we did with the print function already!) Let's run the function we just made."
   ]
  },
  {
   "cell_type": "code",
   "execution_count": 76,
   "id": "93558a72",
   "metadata": {},
   "outputs": [
    {
     "name": "stdout",
     "output_type": "stream",
     "text": [
      "Twinkle, twinkle little star.\n",
      "How I wonder what you are?\n"
     ]
    }
   ],
   "source": [
    "print_song()"
   ]
  },
  {
   "cell_type": "markdown",
   "id": "b6d37bce",
   "metadata": {},
   "source": [
    "Now, try writing a function that uses the print_song function to repeat those lyrics 2 times each!"
   ]
  },
  {
   "cell_type": "code",
   "execution_count": 90,
   "id": "72174835",
   "metadata": {},
   "outputs": [
    {
     "name": "stdout",
     "output_type": "stream",
     "text": [
      "Twinkle, twinkle little star.\n",
      "How I wonder what you are?\n",
      "Twinkle, twinkle little star.\n",
      "How I wonder what you are?\n"
     ]
    }
   ],
   "source": [
    "#This will be empty\n",
    "def repeat_song():\n",
    "    print_song()\n",
    "    print_song()\n",
    "    \n",
    "repeat_song()"
   ]
  },
  {
   "cell_type": "code",
   "execution_count": null,
   "id": "af23ec46",
   "metadata": {},
   "outputs": [],
   "source": [
    "#Parameters / arguments (local)\n",
    "\n",
    "#Returning or void functions (also in chap 6)"
   ]
  },
  {
   "cell_type": "code",
   "execution_count": null,
   "id": "9d04b131",
   "metadata": {},
   "outputs": [],
   "source": [
    "#create functions that can add any two numbers together, then find the \n",
    "#factorial of that function"
   ]
  },
  {
   "cell_type": "code",
   "execution_count": 92,
   "id": "11a8b2d1",
   "metadata": {},
   "outputs": [],
   "source": [
    "#Turtle?"
   ]
  },
  {
   "cell_type": "markdown",
   "id": "c4918b10",
   "metadata": {},
   "source": [
    "<h2><center> Conditionals and Recursion </center></h2>"
   ]
  },
  {
   "cell_type": "markdown",
   "id": "e08caa63",
   "metadata": {},
   "source": [
    "__Boolean expressions__ have values of either true or false. You can use the == operator to compare two things and return the value __True__ if they are equal, or __False__ if they are not. Let's see how it works."
   ]
  },
  {
   "cell_type": "code",
   "execution_count": 95,
   "id": "28b0753c",
   "metadata": {},
   "outputs": [
    {
     "data": {
      "text/plain": [
       "True"
      ]
     },
     "execution_count": 95,
     "metadata": {},
     "output_type": "execute_result"
    }
   ],
   "source": [
    "3==3\n",
    "#3==4"
   ]
  },
  {
   "cell_type": "markdown",
   "id": "3016a0db",
   "metadata": {},
   "source": [
    "__Conditional statements__ help us check a condition and change how the program behaves based on the result. A simple kind of conditional statement is an __if statement.__"
   ]
  },
  {
   "cell_type": "code",
   "execution_count": 99,
   "id": "50128d4c",
   "metadata": {},
   "outputs": [
    {
     "name": "stdout",
     "output_type": "stream",
     "text": [
      "Team 1 is winning!\n"
     ]
    }
   ],
   "source": [
    "team_1 = 5\n",
    "team_2 = 3\n",
    "if team_1 > team_2:\n",
    "    print(\"Team 1 is winning!\")"
   ]
  },
  {
   "cell_type": "markdown",
   "id": "237a9bdf",
   "metadata": {},
   "source": [
    "As we can see, since Team 1's score is greater than Team 2's score, it prints the statement. What happens if Team 2 is winning, though?"
   ]
  },
  {
   "cell_type": "code",
   "execution_count": 100,
   "id": "01dc13d6",
   "metadata": {},
   "outputs": [],
   "source": [
    "team_1 = 3\n",
    "team_2 = 5\n",
    "if team_1 > team_2:\n",
    "    print(\"Team 1 is winning!\")"
   ]
  },
  {
   "cell_type": "markdown",
   "id": "9fe40662",
   "metadata": {},
   "source": [
    "At this point, nothing happens if the condition is false (when team 2 is winning). So, let's add another part to our conditional."
   ]
  },
  {
   "cell_type": "code",
   "execution_count": 102,
   "id": "d0ea8d84",
   "metadata": {},
   "outputs": [
    {
     "name": "stdout",
     "output_type": "stream",
     "text": [
      "Team 2 is winning!\n"
     ]
    }
   ],
   "source": [
    "team_1 = 3\n",
    "team_2 = 5\n",
    "if team_1 > team_2:\n",
    "    print(\"Team 1 is winning!\")\n",
    "else:\n",
    "    print(\"Team 2 is winning!\")"
   ]
  },
  {
   "cell_type": "markdown",
   "id": "4df9252a",
   "metadata": {},
   "source": [
    "By using __else,__ we can add another possibility to our conditional statement. But, what if we have more than 2 possibilities?"
   ]
  },
  {
   "cell_type": "code",
   "execution_count": 103,
   "id": "46b32efe",
   "metadata": {},
   "outputs": [
    {
     "name": "stdout",
     "output_type": "stream",
     "text": [
      "It's a tie!\n"
     ]
    }
   ],
   "source": [
    "team_1 = 4\n",
    "team_2 = 4\n",
    "if team_1 > team_2:\n",
    "    print(\"Team 1 is winning!\")\n",
    "elif team_1 < team_2:\n",
    "    print(\"Team 2 is winning!\")\n",
    "elif team_1 == team_2:\n",
    "    print(\"It's a tie!\")"
   ]
  },
  {
   "cell_type": "markdown",
   "id": "0a38b473",
   "metadata": {},
   "source": [
    "We can use __elif__ (which stands for \"else if\") to represent other cases, so that we can check for any number of conditions. "
   ]
  },
  {
   "cell_type": "markdown",
   "id": "b18c6f4b",
   "metadata": {},
   "source": [
    "Now, let's write our own conditional statements. In the cell below, write code that takes in two variables: __outside temperature__ and __likelihood of precipitation.__ Then, print a suggestion for how someone should dress to prepare for the weather! Be sure to account for all of the different possible combinations of conditions."
   ]
  },
  {
   "cell_type": "code",
   "execution_count": null,
   "id": "08506e80",
   "metadata": {},
   "outputs": [],
   "source": []
  },
  {
   "cell_type": "code",
   "execution_count": 6,
   "id": "d117ffc9",
   "metadata": {},
   "outputs": [
    {
     "name": "stdout",
     "output_type": "stream",
     "text": [
      "It looks very cold. Bring a warm jacket!\n"
     ]
    }
   ],
   "source": [
    "#This will be empty.\n",
    "\n",
    "temperature = 30\n",
    "precipitation_likely = False\n",
    "\n",
    "if temperature >= 65 and precipitation_likely == True:\n",
    "    print(\"It might rain. You should bring an umbrella!\")\n",
    "elif temperature >= 65 and precipitation_likely == False:\n",
    "    print(\"It's nice out, you're all set!\")\n",
    "elif temperature >= 32 and temperature < 65 and precipitation_likely == False:\n",
    "    print(\"It's pretty cold, you might want a jacket!\")\n",
    "elif temperature >= 32 and temperature < 65 and precipitation_likely == True:\n",
    "    print(\"It's pretty cold and it might rain. Bring a warm rain jacket!\")\n",
    "elif temperature < 32 and precipitation_likely == True:\n",
    "    print(\"It looks like it might snow. Bring a warm jacket and snow boots!\")\n",
    "elif temperature < 32 and precipitation_likely == False:\n",
    "    print(\"It looks very cold. Bring a warm jacket!\")\n"
   ]
  },
  {
   "cell_type": "code",
   "execution_count": null,
   "id": "5d2a30da",
   "metadata": {},
   "outputs": [],
   "source": [
    "#Recursion"
   ]
  },
  {
   "cell_type": "markdown",
   "id": "d02af250",
   "metadata": {},
   "source": [
    "<h2><center>Iteration</center></h2>"
   ]
  },
  {
   "cell_type": "code",
   "execution_count": null,
   "id": "a055227d",
   "metadata": {},
   "outputs": [],
   "source": [
    "#reassignment of variables, updating, while statement"
   ]
  },
  {
   "cell_type": "markdown",
   "id": "77ca6514",
   "metadata": {},
   "source": [
    "<h2><center>Strings</center></h2>"
   ]
  },
  {
   "cell_type": "code",
   "execution_count": null,
   "id": "66d62853",
   "metadata": {},
   "outputs": [],
   "source": [
    "#for loops etc"
   ]
  },
  {
   "cell_type": "markdown",
   "id": "6ffb8ed5",
   "metadata": {},
   "source": [
    "<h2><center> Writing Your Own Program </center></h2>"
   ]
  },
  {
   "cell_type": "markdown",
   "id": "7dfde8e2",
   "metadata": {},
   "source": [
    "Now, you're going to use what you've learned so far to write your own program. You are going to make a game of Rock, Paper, Scissors where a user can play against a computer!\n",
    "\n",
    "-add a time countdown where it says 321 go\n",
    "-add a way to keep score"
   ]
  },
  {
   "cell_type": "code",
   "execution_count": null,
   "id": "f6b53363",
   "metadata": {},
   "outputs": [],
   "source": [
    "#Rock paper scissors game"
   ]
  },
  {
   "cell_type": "code",
   "execution_count": 30,
   "id": "51cadeda",
   "metadata": {},
   "outputs": [
    {
     "data": {
      "application/vnd.jupyter.widget-view+json": {
       "model_id": "bfbaf6331c8e4559a8db6addd264d9b1",
       "version_major": 2,
       "version_minor": 0
      },
      "text/plain": [
       "HBox(children=(Button(description='Rock', style=ButtonStyle()), Button(description='Paper', style=ButtonStyle(…"
      ]
     },
     "metadata": {},
     "output_type": "display_data"
    },
    {
     "name": "stdout",
     "output_type": "stream",
     "text": [
      "rock\n"
     ]
    }
   ],
   "source": [
    "import ipywidgets as widgets\n",
    "\n",
    "rock_button = widgets.Button(description=\"Rock\")\n",
    "paper_button = widgets.Button(description=\"Paper\")\n",
    "scissors_button = widgets.Button(description=\"Scissors\")\n",
    "display(widgets.HBox((rock_button, paper_button, scissors_button)))\n",
    "\n",
    "\n",
    "\n",
    "def rock(user_choice):\n",
    "    user_choice = 'rock' \n",
    "    print(user_choice)\n",
    "    return user_choice\n",
    "\n",
    "rock_button.on_click(rock)\n",
    "\n",
    "def paper(user_choice):\n",
    "    user_choice = 'paper' \n",
    "    print(user_choice)\n",
    "    return user_choice\n",
    "\n",
    "\n",
    "paper_button.on_click(paper)\n",
    "\n",
    "def scissors(user_choice):\n",
    "    user_choice = 'scissors' \n",
    "    print(user_choice)\n",
    "\n",
    "    return user_choice\n",
    "\n",
    "\n",
    "scissors_button.on_click(scissors)\n",
    "\n"
   ]
  },
  {
   "cell_type": "code",
   "execution_count": 32,
   "id": "a7d68880",
   "metadata": {},
   "outputs": [
    {
     "ename": "NameError",
     "evalue": "name 'user_choice' is not defined",
     "output_type": "error",
     "traceback": [
      "\u001b[0;31m---------------------------------------------------------------------------\u001b[0m",
      "\u001b[0;31mNameError\u001b[0m                                 Traceback (most recent call last)",
      "Input \u001b[0;32mIn [32]\u001b[0m, in \u001b[0;36m<cell line: 1>\u001b[0;34m()\u001b[0m\n\u001b[0;32m----> 1\u001b[0m \u001b[38;5;28mprint\u001b[39m(\u001b[43muser_choice\u001b[49m)\n",
      "\u001b[0;31mNameError\u001b[0m: name 'user_choice' is not defined"
     ]
    }
   ],
   "source": []
  },
  {
   "cell_type": "code",
   "execution_count": null,
   "id": "602d916a",
   "metadata": {},
   "outputs": [],
   "source": []
  }
 ],
 "metadata": {
  "kernelspec": {
   "display_name": "Python 3 (ipykernel)",
   "language": "python",
   "name": "python3"
  },
  "language_info": {
   "codemirror_mode": {
    "name": "ipython",
    "version": 3
   },
   "file_extension": ".py",
   "mimetype": "text/x-python",
   "name": "python",
   "nbconvert_exporter": "python",
   "pygments_lexer": "ipython3",
   "version": "3.9.12"
  }
 },
 "nbformat": 4,
 "nbformat_minor": 5
}
