{
 "cells": [
  {
   "cell_type": "markdown",
   "id": "440a437e",
   "metadata": {},
   "source": [
    "## <div align=\"center\">  Line Follower"
   ]
  },
  {
   "cell_type": "markdown",
   "id": "c2049abc",
   "metadata": {},
   "source": [
    "The next project you are going to work on is a Line Follower! The goal of this project is to create a robot that can follow a given path on the floor. To do this, you'll need to create a path that your robot needs to follow. Using black tape on a light colored, solid floor is a great way to do this!\n",
    "<br><br>\n",
    "Let's start off by making the path. Lay down your tape on the floor in a pattern you'd like your robot to follow! You can add some turns to make it interesting, but don't make it too challenging for the robot (at least at first!).\n",
    "<br><br>\n",
    "Once you've created your path, you'll need to build and code your robot to follow it! Let's think about the parts we may need to make this work. For each part listed below, choose whether or not you think it will be used in your line follower."
   ]
  },
  {
   "cell_type": "code",
   "execution_count": 42,
   "id": "376d0b3e",
   "metadata": {
    "scrolled": true
   },
   "outputs": [
    {
     "name": "stdout",
     "output_type": "stream",
     "text": [
      "Motors\n"
     ]
    },
    {
     "data": {
      "application/vnd.jupyter.widget-view+json": {
       "model_id": "2de969dfbea74c599d2ab62702fac856",
       "version_major": 2,
       "version_minor": 0
      },
      "text/plain": [
       "Dropdown(index=2, options=('Yes', 'No', 'Choose your answer'), value='Choose your answer')"
      ]
     },
     "metadata": {},
     "output_type": "display_data"
    },
    {
     "name": "stdout",
     "output_type": "stream",
     "text": [
      "\n",
      "Light Sensor\n"
     ]
    },
    {
     "data": {
      "application/vnd.jupyter.widget-view+json": {
       "model_id": "efd86949fe024464b416c7c7fd7c3aa3",
       "version_major": 2,
       "version_minor": 0
      },
      "text/plain": [
       "Dropdown(index=2, options=('Yes', 'No', 'Choose your answer'), value='Choose your answer')"
      ]
     },
     "metadata": {},
     "output_type": "display_data"
    },
    {
     "name": "stdout",
     "output_type": "stream",
     "text": [
      "\n",
      "Force Sensor\n"
     ]
    },
    {
     "data": {
      "application/vnd.jupyter.widget-view+json": {
       "model_id": "5a5cbe24a86f47889d5552692e098f85",
       "version_major": 2,
       "version_minor": 0
      },
      "text/plain": [
       "Dropdown(index=2, options=('Yes', 'No', 'Choose your answer'), value='Choose your answer')"
      ]
     },
     "metadata": {},
     "output_type": "display_data"
    },
    {
     "name": "stdout",
     "output_type": "stream",
     "text": [
      "\n",
      "Distance Sensor\n"
     ]
    },
    {
     "data": {
      "application/vnd.jupyter.widget-view+json": {
       "model_id": "181fe8e9e52742e7be32b5878e90cb47",
       "version_major": 2,
       "version_minor": 0
      },
      "text/plain": [
       "Dropdown(index=2, options=('Yes', 'No', 'Choose your answer'), value='Choose your answer')"
      ]
     },
     "metadata": {},
     "output_type": "display_data"
    }
   ],
   "source": [
    "#Answer the questions below!\n",
    "import ipywidgets as widgets\n",
    "from ipywidgets import HBox, Label, Layout\n",
    "\n",
    "question_1 = widgets.Dropdown(\n",
    "    options=['Yes', 'No','Choose your answer',],\n",
    "    value='Choose your answer',\n",
    "    description='',\n",
    ")\n",
    "\n",
    "def answer_1(change):\n",
    "    if change['new'] == 'Yes':\n",
    "        print(\"Correct! Your robot will have to drive along a path. So, you'll have to use motors to power it!\")\n",
    "          \n",
    "    elif change['new'] == 'No':\n",
    "        print(\"Try again!\")\n",
    "      \n",
    "question_1.observe(answer_1)\n",
    "\n",
    "print(\"Motors\")\n",
    "display(question_1)\n",
    "\n",
    "question_2 = widgets.Dropdown(\n",
    "    options=['Yes', 'No','Choose your answer',],\n",
    "    value='Choose your answer',\n",
    "    description='',\n",
    ")\n",
    "\n",
    "def answer_2(change):\n",
    "    if change['new'] == 'Yes':\n",
    "        print(\"Correct! You will use your light sensor to determine whether or not the robot is on the right path.\")\n",
    "          \n",
    "    elif change['new'] == 'No':\n",
    "        print(\"Try again!\")\n",
    "      \n",
    "question_2.observe(answer_2)\n",
    "\n",
    "print()\n",
    "print('Light Sensor')\n",
    "display(question_2)\n",
    "\n",
    "question_3 = widgets.Dropdown(\n",
    "    options=['Yes', 'No','Choose your answer',],\n",
    "    value='Choose your answer',\n",
    "    description='',\n",
    ")\n",
    "\n",
    "def answer_3(change):\n",
    "    if change['new'] == 'Yes':\n",
    "        print(\"Try again!\")\n",
    "          \n",
    "    elif change['new'] == 'No':\n",
    "        print(\"Correct! You could always find a way to incorporate this and add on to your project, but we don't need a force sensor for now.\")\n",
    "      \n",
    "question_3.observe(answer_3)\n",
    "\n",
    "print()\n",
    "print('Force Sensor')\n",
    "display(question_3)\n",
    "\n",
    "question_4 = widgets.Dropdown(\n",
    "    options=['Yes', 'No','Choose your answer',],\n",
    "    value='Choose your answer',\n",
    "    description='',\n",
    ")\n",
    "\n",
    "def answer_4(change):\n",
    "    if change['new'] == 'Yes':\n",
    "        print(\"Try again!\")\n",
    "          \n",
    "    elif change['new'] == 'No':\n",
    "        print(\"Correct! You could always find a way to incorporate this and add on to your project, but we don't need a distance sensor for now.\")\n",
    "      \n",
    "question_3.observe(answer_4)\n",
    "\n",
    "print()\n",
    "print('Distance Sensor')\n",
    "display(question_4)"
   ]
  },
  {
   "cell_type": "markdown",
   "id": "bb15843b",
   "metadata": {},
   "source": [
    "So, our plan is to create a line following robot using two motors and our light sensor. First, we need to build it! Use your motors to create a robot that can drive. Also, be sure to attach the light sensor somewhere where it can face the ground, so that you'll be able to tell whether or not your robot is on the line! For now, be sure to plug your motors into ports A and B, and your light sensor into port E. Once you've built your robot, you can move on to the next step and test it to see whether it drives."
   ]
  },
  {
   "cell_type": "markdown",
   "id": "0acda1cf",
   "metadata": {},
   "source": [
    "Run the cell below to connect to your hub!"
   ]
  },
  {
   "cell_type": "code",
   "execution_count": 57,
   "id": "684779b7",
   "metadata": {},
   "outputs": [
    {
     "data": {
      "application/vnd.jupyter.widget-view+json": {
       "model_id": "ad2da41e6a0949908f5d0cf7c908535c",
       "version_major": 2,
       "version_minor": 0
      },
      "text/plain": [
       "Select(description='Select Port:', options=('/dev/cu.BLTH', '/dev/cu.Bluetooth-Incoming-Port', '/dev/cu.LEGOHu…"
      ]
     },
     "metadata": {},
     "output_type": "display_data"
    },
    {
     "data": {
      "application/vnd.jupyter.widget-view+json": {
       "model_id": "6c5082a362b443cd9f58024c25f5835b",
       "version_major": 2,
       "version_minor": 0
      },
      "text/plain": [
       "Output()"
      ]
     },
     "metadata": {},
     "output_type": "display_data"
    }
   ],
   "source": [
    "#CONNECTING TO SPIKE\n",
    "\n",
    "import serial\n",
    "import sys\n",
    "import glob\n",
    "import time\n",
    "import serial.tools.list_ports\n",
    "import ipywidgets as widgets\n",
    "from ipywidgets import HBox, Label, Layout\n",
    "from IPython.display import display\n",
    "from IPython.core.display import HTML\n",
    "from IPython.display import clear_output\n",
    "\n",
    "\n",
    "ser = None\n",
    "\n",
    "def serial_ports():\n",
    "    result = []\n",
    "    ports = serial.tools.list_ports.comports()\n",
    "    for port, desc, hwid in sorted(ports):\n",
    "        comm =  \"{}: {}\".format(port, desc)\n",
    "        result.append(comm) \n",
    "    return result\n",
    "\n",
    "def InitSerial(port, bps = 9600, to = 0):\n",
    "    global ser\n",
    "    try:\n",
    "        ser = serial.Serial(port, bps, timeout = to)  # open serial port\n",
    "        ser.flushInput()\n",
    "        ser.flushOutput()\n",
    "        return ser.name\n",
    "    except Exception as e:\n",
    "        return 'ERR: ' + str(e)\n",
    "\n",
    "def CloseSerial():\n",
    "    return('done')\n",
    "    try:\n",
    "        ser.flush()\n",
    "        ser.close()\n",
    "        return 'done'\n",
    "    except Exception as e:\n",
    "        return 'ERR: ' + str(e)    \n",
    "\n",
    "def WriteSerial(string):\n",
    "    try:\n",
    "        reply = ser.write(string.encode())\n",
    "        return str(reply)\n",
    "    except Exception as e:\n",
    "        return 'ERR: ' + str(e)    \n",
    "\n",
    "def ReadSerial():\n",
    "    try:\n",
    "        reply = ''\n",
    "        while ser.in_waiting:\n",
    "            reply = reply + ser.readline().decode()\n",
    "        return reply\n",
    "    except Exception as e:\n",
    "        return 'ERR: ' +  str(e)\n",
    "    \n",
    "def SendRead(string):\n",
    "    if WriteSerial(string):\n",
    "        time.sleep(0.1)\n",
    "        return ReadSerial()\n",
    "    \n",
    "updatedPortList = []\n",
    "\n",
    "def search_for_ports():\n",
    "#     updatedPortList = []\n",
    "    serialPortList = serial_ports()\n",
    "    for x in serialPortList:\n",
    "        updatedPortList.append(x[:x.index(':')])\n",
    "SerialPort = \"\"\n",
    "def on_value_change(change):\n",
    "    with output2:\n",
    "        SerialPort = change['new']\n",
    "        InitSerial(SerialPort,115200)\n",
    "        WriteSerial('\\x03')\n",
    "        run_some_code()\n",
    "        \n",
    "def run_some_code():\n",
    "    connectCode = '''\n",
    "import hub,utime\n",
    "    '''\n",
    "    motorTest = '''\n",
    "import hub,utime\n",
    "hub.port.A.info()\n",
    "    '''\n",
    "    WriteSerial('\\x05')\n",
    "    WriteSerial(connectCode)\n",
    "    WriteSerial('\\x04')\n",
    "    time.sleep(1) #wait for everything to get over there and read all the replies\n",
    "    if (len(ReadSerial())==88):\n",
    "        WriteSerial('\\x05')\n",
    "        WriteSerial(motorTest)\n",
    "        WriteSerial('\\x04')\n",
    "        time.sleep(1) #wait for everything to get over there and read all the replies\n",
    "        if (len(ReadSerial())==1499):\n",
    "            print(\"You are now connected to SPIKE Prime!\")\n",
    "            return 0\n",
    "        else:\n",
    "            print(\"You are now connected to SPIKE Prime!\")\n",
    "            return None\n",
    "    else:\n",
    "        print(\"Error, try reconnecting or connecting to a different serial port.\")\n",
    "        return None\n",
    "\n",
    "updatedPortList = []\n",
    "search_for_ports()\n",
    "dropdown = widgets.Select(\n",
    "            options=updatedPortList,\n",
    "            description='Select Port:',\n",
    "            disabled=False)\n",
    "output2 = widgets.Output()\n",
    "display(dropdown, output2)\n",
    "dropdown.observe(on_value_change, names='value')\n",
    "# note if the timeout is anything but zero it is slow"
   ]
  },
  {
   "cell_type": "markdown",
   "id": "32c99869",
   "metadata": {},
   "source": [
    "Now that you're connected to SPIKE Prime, let's try driving your robot! Test out what you built. Try each of the buttons, and make sure your car drives in the correct direction! If not, it may mean your motors are facing a different way. In this case, you can change the direction the motors are moving to be consistent with the way you built it!"
   ]
  },
  {
   "cell_type": "code",
   "execution_count": 58,
   "id": "4bc9e646",
   "metadata": {},
   "outputs": [
    {
     "data": {
      "application/vnd.jupyter.widget-view+json": {
       "model_id": "32d05c2b086d4d63b2eb20c4cf006284",
       "version_major": 2,
       "version_minor": 0
      },
      "text/plain": [
       "Button(description='Forward', style=ButtonStyle())"
      ]
     },
     "metadata": {},
     "output_type": "display_data"
    },
    {
     "data": {
      "application/vnd.jupyter.widget-view+json": {
       "model_id": "d87fa5ac2af84ed39c6a593dd84f4a11",
       "version_major": 2,
       "version_minor": 0
      },
      "text/plain": [
       "Button(description='Backward', style=ButtonStyle())"
      ]
     },
     "metadata": {},
     "output_type": "display_data"
    },
    {
     "data": {
      "application/vnd.jupyter.widget-view+json": {
       "model_id": "aa2d074dcef14b94a9e4a07c7e926898",
       "version_major": 2,
       "version_minor": 0
      },
      "text/plain": [
       "Button(description='Left', style=ButtonStyle())"
      ]
     },
     "metadata": {},
     "output_type": "display_data"
    },
    {
     "data": {
      "application/vnd.jupyter.widget-view+json": {
       "model_id": "215ff213ca424233bd45f2dccd24eacf",
       "version_major": 2,
       "version_minor": 0
      },
      "text/plain": [
       "Button(description='Right', style=ButtonStyle())"
      ]
     },
     "metadata": {},
     "output_type": "display_data"
    },
    {
     "data": {
      "application/vnd.jupyter.widget-view+json": {
       "model_id": "3b4fc7bb85ea42e995f19f18a8d26dac",
       "version_major": 2,
       "version_minor": 0
      },
      "text/plain": [
       "Button(description='Stop', style=ButtonStyle())"
      ]
     },
     "metadata": {},
     "output_type": "display_data"
    }
   ],
   "source": [
    "#DRIVE ROBOT\n",
    "\n",
    "from IPython.display import display\n",
    "\n",
    "#FORWARD\n",
    "\n",
    "forward_button = widgets.Button(description=\"Forward\")\n",
    "display(forward_button)\n",
    "\n",
    "def go_forward(b):\n",
    "    forward_motorA = '''hub.port.A.motor.pwm(50)\n",
    "'''\n",
    "    WriteSerial('\\x05')\n",
    "    WriteSerial(forward_motorA)\n",
    "    WriteSerial('\\x04')\n",
    "\n",
    "    forward_motorB = '''hub.port.B.motor.pwm(-50)\n",
    "'''\n",
    "    WriteSerial('\\x05')\n",
    "    WriteSerial(forward_motorB)\n",
    "    WriteSerial('\\x04')\n",
    "\n",
    "forward_button.on_click(go_forward)\n",
    "\n",
    "#BACKWARD\n",
    "backward_button = widgets.Button(description=\"Backward\")\n",
    "display(backward_button)\n",
    "\n",
    "def go_backward(b):\n",
    "    backward_motorA = '''hub.port.A.motor.pwm(-50)\n",
    "'''\n",
    "    WriteSerial('\\x05')\n",
    "    WriteSerial(backward_motorA)\n",
    "    WriteSerial('\\x04')\n",
    "    \n",
    "    backward_motorB = '''hub.port.B.motor.pwm(50)\n",
    "'''\n",
    "    WriteSerial('\\x05')\n",
    "    WriteSerial(backward_motorB)\n",
    "    WriteSerial('\\x04')\n",
    "backward_button.on_click(go_backward)\n",
    "\n",
    "#LEFT\n",
    "left_button = widgets.Button(description=\"Left\")\n",
    "display(left_button)\n",
    "def go_left(b):\n",
    "    left_motorA = '''hub.port.A.motor.pwm(-50)\n",
    "'''\n",
    "    WriteSerial('\\x05')\n",
    "    WriteSerial(left_motorA)\n",
    "    WriteSerial('\\x04')\n",
    "    \n",
    "    left_motorB = '''hub.port.B.motor.pwm(-50)\n",
    "'''\n",
    "    WriteSerial('\\x05')\n",
    "    WriteSerial(left_motorB)\n",
    "    WriteSerial('\\x04')\n",
    "left_button.on_click(go_left)\n",
    "\n",
    "#RIGHT\n",
    "right_button = widgets.Button(description=\"Right\")\n",
    "display(right_button)\n",
    "def go_right(b):\n",
    "    right_motorA = '''hub.port.A.motor.pwm(50)\n",
    "'''\n",
    "    WriteSerial('\\x05')\n",
    "    WriteSerial(right_motorA)\n",
    "    WriteSerial('\\x04')\n",
    "    \n",
    "    right_motorB = '''hub.port.B.motor.pwm(50)\n",
    "'''\n",
    "    WriteSerial('\\x05')\n",
    "    WriteSerial(right_motorB)\n",
    "    WriteSerial('\\x04')\n",
    "right_button.on_click(go_right)\n",
    "\n",
    "\n",
    "#STOP\n",
    "stop_button = widgets.Button(description=\"Stop\")\n",
    "display(stop_button)\n",
    "\n",
    "def stop(b):\n",
    "    stop_motorA = '''hub.port.A.motor.brake()\n",
    "'''\n",
    "    WriteSerial('\\x05')\n",
    "    WriteSerial(stop_motorA)\n",
    "    WriteSerial('\\x04')\n",
    "    \n",
    "    stop_motorB = '''hub.port.B.motor.brake()\n",
    "'''\n",
    "    WriteSerial('\\x05')\n",
    "    WriteSerial(stop_motorB)\n",
    "    WriteSerial('\\x04')\n",
    "\n",
    "\n",
    "stop_button.on_click(stop)"
   ]
  },
  {
   "cell_type": "markdown",
   "id": "303cd954",
   "metadata": {},
   "source": [
    "Once your robot is moving around and following the commands correctly, let's check that the light sensor is working! Press the button below to start getting readings and hold it over different colors to see the different readings you get. \n",
    "<br><br>\n",
    "Specifically, take a look at the differences in readings between your path (dark colored) and your floor (light colored)."
   ]
  },
  {
   "cell_type": "code",
   "execution_count": 45,
   "id": "3aaae88b",
   "metadata": {},
   "outputs": [
    {
     "name": "stdout",
     "output_type": "stream",
     "text": [
      "25\n",
      "25\n",
      "25\n",
      "25\n",
      "25\n",
      "25\n",
      "25\n",
      "25\n",
      "25\n",
      "25\n"
     ]
    }
   ],
   "source": [
    "import time\n",
    "\n",
    "def read():\n",
    "    string=''\n",
    "    fred = '  '\n",
    "    while len(fred):\n",
    "        time.sleep(0.1)\n",
    "        fred = ReadSerial()\n",
    "        string = string+fred\n",
    "    return string\n",
    "    \n",
    "WriteSerial('import hub\\r\\n')\n",
    "WriteSerial('light_sensor = hub.port.E.device\\r\\n')\n",
    "#print(read())\n",
    "for i in range(10):\n",
    "    WriteSerial('print(light_sensor.get()[0])\\r\\n')\n",
    "    print(read().split('\\r\\n')[-2])"
   ]
  },
  {
   "cell_type": "markdown",
   "id": "d72bb889",
   "metadata": {},
   "source": [
    "What do you notice about the readings? Lighter colors result in..."
   ]
  },
  {
   "cell_type": "code",
   "execution_count": 46,
   "id": "4f4483a1",
   "metadata": {},
   "outputs": [
    {
     "data": {
      "application/vnd.jupyter.widget-view+json": {
       "model_id": "678208eaa84f42449c673e215ced1513",
       "version_major": 2,
       "version_minor": 0
      },
      "text/plain": [
       "Button(description='Lower numbers', style=ButtonStyle())"
      ]
     },
     "metadata": {},
     "output_type": "display_data"
    },
    {
     "data": {
      "application/vnd.jupyter.widget-view+json": {
       "model_id": "3f15bffa4089486994bf23c6749f2bf7",
       "version_major": 2,
       "version_minor": 0
      },
      "text/plain": [
       "Button(description='Higher numbers', style=ButtonStyle())"
      ]
     },
     "metadata": {},
     "output_type": "display_data"
    },
    {
     "name": "stdout",
     "output_type": "stream",
     "text": [
      "Correct! This setting of the light sensor measures the intensity of the light. The lighter the color, the lower the number will be.\n",
      "Sorry, that's incorrect! This setting of the light sensor measures the intensity of the light. The darker the color, the higher the number will be.\n"
     ]
    }
   ],
   "source": [
    "#LOWER NUMBERS\n",
    "lower_button = widgets.Button(description=\"Lower numbers\")\n",
    "display(lower_button)\n",
    "\n",
    "higher_button = widgets.Button(description=\"Higher numbers\")\n",
    "display(higher_button)\n",
    "\n",
    "def lower(b):\n",
    "    print(\"Correct! This setting of the light sensor measures the intensity of the light. The lighter the color, the lower the number will be.\")\n",
    "\n",
    "lower_button.on_click(lower)\n",
    "\n",
    "def higher(b):    \n",
    "    print(\"Sorry, that's incorrect! This setting of the light sensor measures the intensity of the light. The darker the color, the higher the number will be.\")\n",
    "\n",
    "higher_button.on_click(higher)"
   ]
  },
  {
   "cell_type": "markdown",
   "id": "1a4bb83d",
   "metadata": {},
   "source": [
    "Now that we have our motors and light sensor working, let's start to code the robot! "
   ]
  },
  {
   "cell_type": "markdown",
   "id": "6a1a3602",
   "metadata": {},
   "source": [
    "To code our line follower, we'll use if statements!\n",
    "<br><br>\n",
    "Remember, our challenge is to create a robot that follows the path of the black line. Specifically, we want to set up the light sensor so that it is directly above the __right__ side of the line, and the robot follows the right edge (not the center!).\n",
    "<br><br>\n",
    "Before we start coding, let's figure out what the pseudocode should say. Use the dropdown below to fill in the if statement!"
   ]
  },
  {
   "cell_type": "code",
   "execution_count": 59,
   "id": "94c0d542",
   "metadata": {},
   "outputs": [
    {
     "name": "stdout",
     "output_type": "stream",
     "text": [
      "If the light sensor returns a high number...\n"
     ]
    },
    {
     "data": {
      "application/vnd.jupyter.widget-view+json": {
       "model_id": "b1daaf6899f64441b6fe301b4734739a",
       "version_major": 2,
       "version_minor": 0
      },
      "text/plain": [
       "Dropdown(index=2, options=('Turn Left', 'Turn Right', 'Choose your answer'), value='Choose your answer')"
      ]
     },
     "metadata": {},
     "output_type": "display_data"
    },
    {
     "name": "stdout",
     "output_type": "stream",
     "text": [
      "Else...\n"
     ]
    },
    {
     "data": {
      "application/vnd.jupyter.widget-view+json": {
       "model_id": "0d59d60fa50e449ba7f9cd2900f378c9",
       "version_major": 2,
       "version_minor": 0
      },
      "text/plain": [
       "Dropdown(index=2, options=('Turn Left', 'Turn Right', 'Choose your answer'), value='Choose your answer')"
      ]
     },
     "metadata": {},
     "output_type": "display_data"
    }
   ],
   "source": [
    "#Answer the questions below!\n",
    "import ipywidgets as widgets\n",
    "from ipywidgets import HBox, Label, Layout\n",
    "\n",
    "question_1 = widgets.Dropdown(\n",
    "    options=['Turn Left', 'Turn Right','Choose your answer',],\n",
    "    value='Choose your answer',\n",
    "    description='',\n",
    ")\n",
    "\n",
    "def answer_1(change):\n",
    "    if change['new'] == 'Turn Left':\n",
    "        print(\"Correct! This means the light sensor sees white, because it's too far to the right of the line.\")\n",
    "          \n",
    "    elif change['new'] == 'Turn Right':\n",
    "        print(\"Try again!\")\n",
    "      \n",
    "question_1.observe(answer_1)\n",
    "\n",
    "print(\"If the light sensor returns a high number...\")\n",
    "display(question_1)\n",
    "\n",
    "\n",
    "question_2 = widgets.Dropdown(\n",
    "    options=['Turn Left', 'Turn Right','Choose your answer',],\n",
    "    value='Choose your answer',\n",
    "    description='',\n",
    ")\n",
    "\n",
    "def answer_2(change):\n",
    "    if change['new'] == 'Turn Left':\n",
    "        print(\"Try again!\")\n",
    "          \n",
    "    elif change['new'] == 'Turn Right':\n",
    "        print(\"Correct! This means the light sensor sees black, because it's too far to the left of the line.\")\n",
    "      \n",
    "question_2.observe(answer_2)\n",
    "\n",
    "print(\"Else...\")\n",
    "display(question_2)"
   ]
  },
  {
   "cell_type": "markdown",
   "id": "87f0e8af",
   "metadata": {},
   "source": [
    "Now, let's code the robot! Remember to implement the if statement mentioned above, and place it inside a for loop! You can run the cell below"
   ]
  },
  {
   "cell_type": "code",
   "execution_count": 69,
   "id": "e9740fd4",
   "metadata": {},
   "outputs": [],
   "source": [
    "def drive_left ():\n",
    "    left_motorA = '''hub.port.A.motor.pwm(-20)\n",
    "    hub.port.B.motor.brake()\n",
    "'''\n",
    "    WriteSerial('\\x05')\n",
    "    WriteSerial(left_motorA)\n",
    "    WriteSerial('\\x04')\n",
    "    \n",
    "def drive_right ():\n",
    "    right_motorA = '''hub.port.B.motor.pwm(20)\n",
    "    hub.port.A.motor.brake()\n",
    "'''\n",
    "    WriteSerial('\\x05')\n",
    "    WriteSerial(right_motorA)\n",
    "    WriteSerial('\\x04')\n",
    "\n",
    "def sense_color():\n",
    "    string=''\n",
    "    fred = '  '\n",
    "    while len(fred):\n",
    "        time.sleep(0.1)\n",
    "        fred = ReadSerial()\n",
    "        string = string+fred\n",
    "    return string\n",
    "    \n",
    "WriteSerial('import hub\\r\\n')\n",
    "WriteSerial('light_sensor = hub.port.E.device\\r\\n')\n",
    "#print(read())\n",
    "for i in range(10):\n",
    "    WriteSerial('print(light_sensor.get()[0])\\r\\n')\n",
    "    print(read().split('\\r\\n')[-2])\n",
    "#Adjust sensing code to be continuous"
   ]
  },
  {
   "cell_type": "code",
   "execution_count": null,
   "id": "605c8978",
   "metadata": {},
   "outputs": [],
   "source": [
    "#Write your code here!"
   ]
  },
  {
   "cell_type": "markdown",
   "id": "11267345",
   "metadata": {},
   "source": [
    "Once you've written your code, be sure to test it out and see if the robot can actually follow the path you've set up. If it works, you're ready to move on to the next module!"
   ]
  },
  {
   "cell_type": "code",
   "execution_count": null,
   "id": "eec23587",
   "metadata": {},
   "outputs": [],
   "source": [
    "#Add troubleshooting."
   ]
  },
  {
   "cell_type": "code",
   "execution_count": null,
   "id": "711911cb",
   "metadata": {},
   "outputs": [],
   "source": [
    "#Add in extensions/challenges to color sensor project"
   ]
  }
 ],
 "metadata": {
  "kernelspec": {
   "display_name": "Python 3 (ipykernel)",
   "language": "python",
   "name": "python3"
  },
  "language_info": {
   "codemirror_mode": {
    "name": "ipython",
    "version": 3
   },
   "file_extension": ".py",
   "mimetype": "text/x-python",
   "name": "python",
   "nbconvert_exporter": "python",
   "pygments_lexer": "ipython3",
   "version": "3.9.13"
  }
 },
 "nbformat": 4,
 "nbformat_minor": 5
}
